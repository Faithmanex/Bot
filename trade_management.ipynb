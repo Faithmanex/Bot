{
 "cells": [
  {
   "cell_type": "code",
   "execution_count": null,
   "metadata": {
    "collapsed": false,
    "pycharm": {
     "name": "#%%\n"
    }
   },
   "outputs": [],
   "source": [
    "import MetaTrader5 as mt5\n",
    "import pandas as pd"
   ]
  },
  {
   "cell_type": "code",
   "execution_count": null,
   "metadata": {
    "collapsed": false,
    "pycharm": {
     "name": "#%%\n"
    }
   },
   "outputs": [],
   "source": [
    "# initialize and login to MetaTrader5\n",
    "mt5.initialize()\n"
   ]
  },
  {
   "cell_type": "code",
   "execution_count": null,
   "metadata": {
    "collapsed": false,
    "pycharm": {
     "name": "#%%\n"
    }
   },
   "outputs": [],
   "source": [
    "# market order\n",
    "\n",
    "symbol = 'EURUSD'\n",
    "volume = 0.1\n",
    "action = mt5.TRADE_ACTION_DEAL\n",
    "order_type = mt5.ORDER_TYPE_BUY\n",
    "\n",
    "stop_loss = 1.0  # set to 0.0 if you don't want SL\n",
    "take_profit = 1.2  # set to 0.0 if you don't want TP\n",
    "\n",
    "def get_market_price(symbol, type):\n",
    "    if type == mt5.ORDER_TYPE_BUY:\n",
    "        return mt5.symbol_info(symbol).ask\n",
    "    elif type == mt5.ORDER_TYPE_SELL:\n",
    "        return mt5.symbol_info(symbol).bid\n",
    "\n",
    "request = {\n",
    "    \"action\": action,\n",
    "    \"symbol\": 'EURUSD',\n",
    "    \"volume\": 0.1,  # float\n",
    "    \"type\": mt5.ORDER_TYPE_BUY,\n",
    "    \"price\": get_market_price('EURUSD', 0),\n",
    "    \"sl\": stop_loss,  # float\n",
    "    \"tp\": take_profit,  # float\n",
    "    \"deviation\": 20,\n",
    "    \"magic\": 0,\n",
    "    \"comment\": \"python market order\",\n",
    "    \"type_time\": mt5.ORDER_TIME_GTC,\n",
    "    \"type_filling\": mt5.ORDER_FILLING_IOC,  # some brokers accept mt5.ORDER_FILLING_FOK only\n",
    "}\n",
    "\n",
    "res = mt5.order_send(request)\n",
    "res"
   ]
  },
  {
   "cell_type": "code",
   "execution_count": null,
   "metadata": {
    "collapsed": false,
    "pycharm": {
     "name": "#%%\n"
    }
   },
   "outputs": [],
   "source": [
    "# modify SL/TP\n",
    "\n",
    "stop_loss = 1.05  # set to 0.0 if you don't want SL\n",
    "take_profit = 1.15  # set to 0.0 if you don't want TP\n",
    "\n",
    "positions = mt5.positions_get()\n",
    "print('open positions', positions)\n",
    "\n",
    "# Working with 1st position in the list and closing it\n",
    "pos1 = positions[0]\n",
    "\n",
    "request = {\n",
    "    'action': mt5.TRADE_ACTION_SLTP,\n",
    "    'position': pos1.ticket,\n",
    "    'sl': stop_loss,\n",
    "    'tp': take_profit\n",
    "}\n",
    "\n",
    "res = mt5.order_send(request)\n",
    "res"
   ]
  },
  {
   "cell_type": "code",
   "execution_count": null,
   "metadata": {
    "collapsed": false,
    "pycharm": {
     "name": "#%%\n"
    }
   },
   "outputs": [],
   "source": [
    "# close position\n",
    "\n",
    "positions = mt5.positions_get()\n",
    "print('open positions', positions)\n",
    "\n",
    "# Working with 1st position in the list and closing it\n",
    "pos1 = positions[0]\n",
    "\n",
    "def reverse_type(type):\n",
    "    # to close a buy positions, you must perform a sell position and vice versa\n",
    "    if type == mt5.ORDER_TYPE_BUY:\n",
    "        return mt5.ORDER_TYPE_SELL\n",
    "    elif type == mt5.ORDER_TYPE_SELL:\n",
    "        return mt5.ORDER_TYPE_BUY\n",
    "\n",
    "\n",
    "def get_close_price(symbol, type):\n",
    "    if type == mt5.ORDER_TYPE_BUY:\n",
    "        return mt5.symbol_info(symbol).bid\n",
    "    elif type == mt5.ORDER_TYPE_SELL:\n",
    "        return mt5.symbol_info(symbol).ask\n",
    "\n",
    "request = {\n",
    "    \"action\": mt5.TRADE_ACTION_DEAL,\n",
    "    \"position\": pos1.ticket,\n",
    "    \"symbol\": pos1.symbol,\n",
    "    \"volume\": pos1.volume,\n",
    "    \"type\": reverse_type(pos1.type),\n",
    "    \"price\":get_close_price(pos1.symbol, pos1.type),\n",
    "    \"deviation\": 20,\n",
    "    \"magic\": 0,\n",
    "    \"comment\": \"python close order\",\n",
    "    \"type_time\": mt5.ORDER_TIME_GTC,\n",
    "    \"type_filling\": mt5.ORDER_FILLING_IOC,  # some brokers accept mt5.ORDER_FILLING_FOK only\n",
    "}\n",
    "\n",
    "res = mt5.order_send(request)\n",
    "res"
   ]
  },
  {
   "cell_type": "code",
   "execution_count": null,
   "metadata": {
    "collapsed": false,
    "pycharm": {
     "name": "#%%\n"
    }
   },
   "outputs": [],
   "source": [
    "# partial close position\n",
    "perc_close = 0.5\n",
    "\n",
    "positions = mt5.positions_get()\n",
    "print('open positions', positions)\n",
    "\n",
    "# Working with 1st position in the list and closing it\n",
    "pos1 = positions[0]\n",
    "\n",
    "def reverse_type(type):\n",
    "    # to close a buy positions, you must perform a sell position and vice versa\n",
    "    if type == 0:\n",
    "        return 1\n",
    "    elif type == 1:\n",
    "        return 0\n",
    "\n",
    "\n",
    "def get_close_price(symbol, type):\n",
    "    if type == 0:\n",
    "        return mt5.symbol_info(symbol).bid\n",
    "    elif type == 1:\n",
    "        return mt5.symbol_info(symbol).ask\n",
    "\n",
    "request = {\n",
    "    \"action\": mt5.TRADE_ACTION_DEAL,\n",
    "    \"position\": pos1.ticket,\n",
    "    \"symbol\": pos1.symbol,\n",
    "    \"volume\": round(pos1.volume * perc_close, 2),  # closing only half\n",
    "    \"type\": reverse_type(pos1.type),\n",
    "    \"price\":get_close_price(pos1.symbol, pos1.type),\n",
    "    \"deviation\": 20,\n",
    "    \"magic\": 0,\n",
    "    \"comment\": \"python partial close order\",\n",
    "    \"type_time\": mt5.ORDER_TIME_GTC,\n",
    "    \"type_filling\": mt5.ORDER_FILLING_IOC,  # some brokers accept mt5.ORDER_FILLING_FOK only\n",
    "}\n",
    "\n",
    "res = mt5.order_send(request)\n",
    "res"
   ]
  },
  {
   "cell_type": "code",
   "execution_count": 47,
   "metadata": {
    "collapsed": false,
    "pycharm": {
     "name": "#%%\n"
    }
   },
   "outputs": [
    {
     "ename": "AttributeError",
     "evalue": "'NoneType' object has no attribute 'retcode'",
     "output_type": "error",
     "traceback": [
      "\u001b[1;31m---------------------------------------------------------------------------\u001b[0m",
      "\u001b[1;31mAttributeError\u001b[0m                            Traceback (most recent call last)",
      "Cell \u001b[1;32mIn[47], line 37\u001b[0m\n\u001b[0;32m     20\u001b[0m request \u001b[38;5;241m=\u001b[39m {\n\u001b[0;32m     21\u001b[0m     \u001b[38;5;124m\"\u001b[39m\u001b[38;5;124maction\u001b[39m\u001b[38;5;124m\"\u001b[39m: action,\n\u001b[0;32m     22\u001b[0m     \u001b[38;5;124m\"\u001b[39m\u001b[38;5;124msymbol\u001b[39m\u001b[38;5;124m\"\u001b[39m: symbol,\n\u001b[1;32m   (...)\u001b[0m\n\u001b[0;32m     32\u001b[0m     \u001b[38;5;124m\"\u001b[39m\u001b[38;5;124mtype_filling\u001b[39m\u001b[38;5;124m\"\u001b[39m: mt5\u001b[38;5;241m.\u001b[39mORDER_FILLING_FOK,  \u001b[38;5;66;03m# Some brokers might only accept ORDER_FILLING_FOK\u001b[39;00m\n\u001b[0;32m     33\u001b[0m }\n\u001b[0;32m     35\u001b[0m res \u001b[38;5;241m=\u001b[39m mt5\u001b[38;5;241m.\u001b[39morder_send(request)\n\u001b[1;32m---> 37\u001b[0m \u001b[38;5;28;01mif\u001b[39;00m \u001b[43mres\u001b[49m\u001b[38;5;241;43m.\u001b[39;49m\u001b[43mretcode\u001b[49m \u001b[38;5;241m!=\u001b[39m mt5\u001b[38;5;241m.\u001b[39mTRADE_RETCODE_DONE:\n\u001b[0;32m     38\u001b[0m     \u001b[38;5;28mprint\u001b[39m(\u001b[38;5;124mf\u001b[39m\u001b[38;5;124m\"\u001b[39m\u001b[38;5;124mFailed to send order: \u001b[39m\u001b[38;5;132;01m{\u001b[39;00mmt5\u001b[38;5;241m.\u001b[39mlast_error()\u001b[38;5;132;01m}\u001b[39;00m\u001b[38;5;124m\"\u001b[39m)\n\u001b[0;32m     39\u001b[0m \u001b[38;5;28;01melse\u001b[39;00m:\n",
      "\u001b[1;31mAttributeError\u001b[0m: 'NoneType' object has no attribute 'retcode'"
     ]
    }
   ],
   "source": [
    "import MetaTrader5 as mt5\n",
    "\n",
    "# Initialize MT5 connection\n",
    "if not mt5.initialize():\n",
    "    print(\"initialize() failed\")\n",
    "    mt5.shutdown()\n",
    "\n",
    "# Corrected symbol name - ensure this matches exactly with the symbol name in MT5\n",
    "symbol = 'Volatility 100 Index'  # Adjusted to remove any potential issues with spaces\n",
    "\n",
    "volume = 1\n",
    "\n",
    "action = mt5.TRADE_ACTION_PENDING\n",
    "order_type = mt5.ORDER_TYPE_SELL_LIMIT\n",
    "limit_price = 1500\n",
    "\n",
    "stop_loss = 1550  # Set to an integer representing the price level for stop loss\n",
    "take_profit = 1400  # Set to an integer representing the price level for take profit\n",
    "\n",
    "request = {\n",
    "    \"action\": action,\n",
    "    \"symbol\": symbol,\n",
    "    \"volume\": volume,  # Float is acceptable here\n",
    "    \"type\": order_type,\n",
    "    \"price\": limit_price,\n",
    "    \"sl\": stop_loss,  # Integer representing the stop loss price level\n",
    "    \"tp\": take_profit,  # Integer representing the take profit price level\n",
    "    \"deviation\": 20,\n",
    "    \"magic\": 0,\n",
    "    \"comment\": \"Python market order\",\n",
    "    \"type_time\": mt5.ORDER_TIME_GTC,\n",
    "    \"type_filling\": mt5.ORDER_FILLING_FOK,  # Some brokers might only accept ORDER_FILLING_FOK\n",
    "}\n",
    "\n",
    "res = mt5.order_send(request)\n",
    "\n",
    "if res.retcode != mt5.TRADE_RETCODE_DONE:\n",
    "    print(f\"Failed to send order: {mt5.last_error()}\")\n",
    "else:\n",
    "    print(f\"Order sent: {res}\")\n",
    "\n",
    "# Remember to shut down the connection to free up resources\n",
    "mt5.shutdown()\n"
   ]
  },
  {
   "cell_type": "code",
   "execution_count": 52,
   "metadata": {
    "collapsed": false,
    "pycharm": {
     "name": "#%%\n"
    }
   },
   "outputs": [
    {
     "name": "stdout",
     "output_type": "stream",
     "text": [
      "Order sent successfully: OrderSendResult(retcode=10009, deal=0, order=7833267104, volume=1.0, price=0.0, bid=0.0, ask=0.0, comment='Request executed', request_id=952694068, retcode_external=0, request=TradeRequest(action=5, magic=0, order=0, symbol='Volatility 100 Index', volume=1.0, price=1500.0, stoplimit=0.0, sl=1550.0, tp=1400.0, deviation=20, type=3, type_filling=1, type_time=0, expiration=0, comment='Python market order', position=0, position_by=0))\n"
     ]
    },
    {
     "data": {
      "text/plain": [
       "True"
      ]
     },
     "execution_count": 52,
     "metadata": {},
     "output_type": "execute_result"
    }
   ],
   "source": [
    "import MetaTrader5 as mt5\n",
    "\n",
    "# Initialize MT5 connection\n",
    "if not mt5.initialize():\n",
    "    print(\"initialize() failed\")\n",
    "    mt5.shutdown()\n",
    "    quit()\n",
    "\n",
    "# Corrected symbol name - ensure this matches exactly with the symbol name in MT5\n",
    "symbol = 'Volatility 100 Index'  # Adjusted to remove any potential issues with spaces\n",
    "\n",
    "# Define the trade parameters\n",
    "volume = 1.0  # Make sure volume is a float\n",
    "action = mt5.TRADE_ACTION_PENDING\n",
    "order_type = mt5.ORDER_TYPE_SELL_LIMIT\n",
    "limit_price = 1500.0  # Ensure prices are floats\n",
    "stop_loss = 1550.0  # Set to a float representing the price level for stop loss\n",
    "take_profit = 1400.0  # Set to a float representing the price level for take profit\n",
    "\n",
    "# Create a request dictionary\n",
    "request = {\n",
    "    \"action\": action,\n",
    "    \"symbol\": symbol,\n",
    "    \"volume\": volume,  # Float is acceptable here\n",
    "    \"type\": order_type,\n",
    "    \"price\": limit_price,\n",
    "    \"sl\": stop_loss,  # Float representing the stop loss price level\n",
    "    \"tp\": take_profit,  # Float representing the take profit price level\n",
    "    \"deviation\": 20,\n",
    "    \"magic\": 0,\n",
    "    \"comment\": \"Python market order\",\n",
    "    \"type_time\": mt5.ORDER_TIME_GTC,\n",
    "    \"type_filling\": mt5.ORDER_FILLING_IOC,  # Some brokers might only accept ORDER_FILLING_FOK\n",
    "}\n",
    "\n",
    "# Send the order\n",
    "res = mt5.order_send(request)\n",
    "\n",
    "# Check the result\n",
    "if res.retcode != mt5.TRADE_RETCODE_DONE:\n",
    "    print(f\"Failed to send order: {mt5.last_error()}\")\n",
    "else:\n",
    "    print(f\"Order sent successfully: {res}\")\n",
    "\n",
    "# Shut down the connection to free up resources\n",
    "mt5.shutdown()\n"
   ]
  },
  {
   "cell_type": "code",
   "execution_count": null,
   "metadata": {
    "collapsed": false,
    "pycharm": {
     "name": "#%%\n"
    }
   },
   "outputs": [],
   "source": [
    "# Remove Pending Order\n",
    "pending_orders = mt5.orders_get()\n",
    "print('open pending orders', pending_orders)\n",
    "\n",
    "order1 = pending_orders[0]\n",
    "\n",
    "request = {\n",
    "    'action': mt5.TRADE_ACTION_REMOVE,\n",
    "    'order': order1.ticket\n",
    "}\n",
    "\n",
    "mt5.order_send(request)"
   ]
  },
  {
   "cell_type": "code",
   "execution_count": null,
   "metadata": {
    "collapsed": false,
    "pycharm": {
     "name": "#%%\n"
    }
   },
   "outputs": [],
   "source": []
  }
 ],
 "metadata": {
  "kernelspec": {
   "display_name": "Python 3",
   "language": "python",
   "name": "python3"
  },
  "language_info": {
   "codemirror_mode": {
    "name": "ipython",
    "version": 3
   },
   "file_extension": ".py",
   "mimetype": "text/x-python",
   "name": "python",
   "nbconvert_exporter": "python",
   "pygments_lexer": "ipython3",
   "version": "3.12.4"
  }
 },
 "nbformat": 4,
 "nbformat_minor": 0
}
